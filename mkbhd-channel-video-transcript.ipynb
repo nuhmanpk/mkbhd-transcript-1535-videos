{
  "nbformat": 4,
  "nbformat_minor": 0,
  "metadata": {
    "colab": {
      "provenance": [],
      "toc_visible": true
    },
    "kernelspec": {
      "name": "python3",
      "display_name": "Python 3"
    },
    "language_info": {
      "name": "python"
    }
  },
  "cells": [
    {
      "cell_type": "code",
      "source": [
        "!pip install scrapetube -q"
      ],
      "metadata": {
        "id": "4oSUk51cnrO1"
      },
      "execution_count": 15,
      "outputs": []
    },
    {
      "cell_type": "code",
      "source": [
        "!pip install youtube_transcript_api -q"
      ],
      "metadata": {
        "id": "izvDqEYbn4FQ"
      },
      "execution_count": 13,
      "outputs": []
    },
    {
      "cell_type": "code",
      "source": [
        "from youtube_transcript_api import YouTubeTranscriptApi"
      ],
      "metadata": {
        "id": "CUDn2WkorEii"
      },
      "execution_count": 26,
      "outputs": []
    },
    {
      "cell_type": "code",
      "execution_count": 31,
      "metadata": {
        "id": "PxUE08VVl51E"
      },
      "outputs": [],
      "source": [
        "import scrapetube\n",
        "\n",
        "videos = scrapetube.get_channel(channel_username=\"mkbhd\")\n",
        "\n",
        "# for video in videos:\n",
        "#     print(video['videoId'])"
      ]
    },
    {
      "cell_type": "code",
      "source": [
        "len(list(videos))"
      ],
      "metadata": {
        "colab": {
          "base_uri": "https://localhost:8080/"
        },
        "id": "JPuhd7xImmbs",
        "outputId": "3dec9473-10f5-4d28-a770-e38fb7b8976e"
      },
      "execution_count": 25,
      "outputs": [
        {
          "output_type": "execute_result",
          "data": {
            "text/plain": [
              "1535"
            ]
          },
          "metadata": {},
          "execution_count": 25
        }
      ]
    },
    {
      "cell_type": "code",
      "source": [
        "def transcribe_youtube_video(videoid):\n",
        "    try:\n",
        "        srt = YouTubeTranscriptApi.get_transcript(videoid)\n",
        "        return srt\n",
        "    except Exception as e:\n",
        "        print(f\"{str(e)}\")\n",
        "        return None"
      ],
      "metadata": {
        "id": "LiJHK0Spq97b"
      },
      "execution_count": 32,
      "outputs": []
    },
    {
      "cell_type": "code",
      "source": [
        "transcripts = []\n",
        "for video in videos:\n",
        "    try:\n",
        "      transcript = transcribe_youtube_video(video['videoId'])\n",
        "      transcripts.append(transcript)\n",
        "    except Exception as e:\n",
        "        pass\n",
        "\n",
        "len(transcripts)"
      ],
      "metadata": {
        "id": "9HN9Ew_EpjRu"
      },
      "execution_count": null,
      "outputs": []
    },
    {
      "cell_type": "code",
      "source": [
        "def save_transcripts_to_csv(transcripts, csv_filename):\n",
        "    # Define the CSV file's header\n",
        "    fieldnames = ['text', 'start', 'duration']\n",
        "\n",
        "    # Open the CSV file for writing\n",
        "    with open(csv_filename, mode='w', newline='') as csv_file:\n",
        "        writer = csv.DictWriter(csv_file, fieldnames=fieldnames)\n",
        "\n",
        "        # Write the header row to the CSV file\n",
        "        writer.writeheader()\n",
        "\n",
        "        # Iterate through the transcripts and write each entry to the CSV file\n",
        "        for transcript in transcripts:\n",
        "            if transcript is not None:\n",
        "                for entry in transcript:\n",
        "                    writer.writerow({'text': entry['text'], 'start': entry['start'], 'duration': entry['duration']})"
      ],
      "metadata": {
        "id": "alOAIIEZrLRf"
      },
      "execution_count": 34,
      "outputs": []
    },
    {
      "cell_type": "code",
      "source": [
        "save_transcripts_to_csv(transcripts, 'mkbhd.csv')"
      ],
      "metadata": {
        "id": "I1tKVT0FrN9N"
      },
      "execution_count": 35,
      "outputs": []
    }
  ]
}